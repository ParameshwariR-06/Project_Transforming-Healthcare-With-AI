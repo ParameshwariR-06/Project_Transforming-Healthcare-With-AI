{
  "nbformat": 4,
  "nbformat_minor": 0,
  "metadata": {
    "colab": {
      "provenance": []
    },
    "kernelspec": {
      "name": "python3",
      "display_name": "Python 3"
    },
    "language_info": {
      "name": "python"
    }
  },
  "cells": [
    {
      "cell_type": "code",
      "execution_count": null,
      "metadata": {
        "id": "pwexwEJ7-Uhq"
      },
      "outputs": [],
      "source": []
    },
    {
      "cell_type": "markdown",
      "source": [
        "Upload the Dataset"
      ],
      "metadata": {
        "id": "4fwZwkc1-imb"
      }
    },
    {
      "cell_type": "code",
      "source": [
        "from google.colab import files\n",
        "uploaded = files.upload()"
      ],
      "metadata": {
        "colab": {
          "base_uri": "https://localhost:8080/",
          "height": 73
        },
        "id": "WYPbkejo-noB",
        "outputId": "20a7787b-bc93-4873-8531-cce313da7dcb"
      },
      "execution_count": null,
      "outputs": [
        {
          "output_type": "display_data",
          "data": {
            "text/plain": [
              "<IPython.core.display.HTML object>"
            ],
            "text/html": [
              "\n",
              "     <input type=\"file\" id=\"files-9b44c35f-904a-4fce-a06b-d330d72880f0\" name=\"files[]\" multiple disabled\n",
              "        style=\"border:none\" />\n",
              "     <output id=\"result-9b44c35f-904a-4fce-a06b-d330d72880f0\">\n",
              "      Upload widget is only available when the cell has been executed in the\n",
              "      current browser session. Please rerun this cell to enable.\n",
              "      </output>\n",
              "      <script>// Copyright 2017 Google LLC\n",
              "//\n",
              "// Licensed under the Apache License, Version 2.0 (the \"License\");\n",
              "// you may not use this file except in compliance with the License.\n",
              "// You may obtain a copy of the License at\n",
              "//\n",
              "//      http://www.apache.org/licenses/LICENSE-2.0\n",
              "//\n",
              "// Unless required by applicable law or agreed to in writing, software\n",
              "// distributed under the License is distributed on an \"AS IS\" BASIS,\n",
              "// WITHOUT WARRANTIES OR CONDITIONS OF ANY KIND, either express or implied.\n",
              "// See the License for the specific language governing permissions and\n",
              "// limitations under the License.\n",
              "\n",
              "/**\n",
              " * @fileoverview Helpers for google.colab Python module.\n",
              " */\n",
              "(function(scope) {\n",
              "function span(text, styleAttributes = {}) {\n",
              "  const element = document.createElement('span');\n",
              "  element.textContent = text;\n",
              "  for (const key of Object.keys(styleAttributes)) {\n",
              "    element.style[key] = styleAttributes[key];\n",
              "  }\n",
              "  return element;\n",
              "}\n",
              "\n",
              "// Max number of bytes which will be uploaded at a time.\n",
              "const MAX_PAYLOAD_SIZE = 100 * 1024;\n",
              "\n",
              "function _uploadFiles(inputId, outputId) {\n",
              "  const steps = uploadFilesStep(inputId, outputId);\n",
              "  const outputElement = document.getElementById(outputId);\n",
              "  // Cache steps on the outputElement to make it available for the next call\n",
              "  // to uploadFilesContinue from Python.\n",
              "  outputElement.steps = steps;\n",
              "\n",
              "  return _uploadFilesContinue(outputId);\n",
              "}\n",
              "\n",
              "// This is roughly an async generator (not supported in the browser yet),\n",
              "// where there are multiple asynchronous steps and the Python side is going\n",
              "// to poll for completion of each step.\n",
              "// This uses a Promise to block the python side on completion of each step,\n",
              "// then passes the result of the previous step as the input to the next step.\n",
              "function _uploadFilesContinue(outputId) {\n",
              "  const outputElement = document.getElementById(outputId);\n",
              "  const steps = outputElement.steps;\n",
              "\n",
              "  const next = steps.next(outputElement.lastPromiseValue);\n",
              "  return Promise.resolve(next.value.promise).then((value) => {\n",
              "    // Cache the last promise value to make it available to the next\n",
              "    // step of the generator.\n",
              "    outputElement.lastPromiseValue = value;\n",
              "    return next.value.response;\n",
              "  });\n",
              "}\n",
              "\n",
              "/**\n",
              " * Generator function which is called between each async step of the upload\n",
              " * process.\n",
              " * @param {string} inputId Element ID of the input file picker element.\n",
              " * @param {string} outputId Element ID of the output display.\n",
              " * @return {!Iterable<!Object>} Iterable of next steps.\n",
              " */\n",
              "function* uploadFilesStep(inputId, outputId) {\n",
              "  const inputElement = document.getElementById(inputId);\n",
              "  inputElement.disabled = false;\n",
              "\n",
              "  const outputElement = document.getElementById(outputId);\n",
              "  outputElement.innerHTML = '';\n",
              "\n",
              "  const pickedPromise = new Promise((resolve) => {\n",
              "    inputElement.addEventListener('change', (e) => {\n",
              "      resolve(e.target.files);\n",
              "    });\n",
              "  });\n",
              "\n",
              "  const cancel = document.createElement('button');\n",
              "  inputElement.parentElement.appendChild(cancel);\n",
              "  cancel.textContent = 'Cancel upload';\n",
              "  const cancelPromise = new Promise((resolve) => {\n",
              "    cancel.onclick = () => {\n",
              "      resolve(null);\n",
              "    };\n",
              "  });\n",
              "\n",
              "  // Wait for the user to pick the files.\n",
              "  const files = yield {\n",
              "    promise: Promise.race([pickedPromise, cancelPromise]),\n",
              "    response: {\n",
              "      action: 'starting',\n",
              "    }\n",
              "  };\n",
              "\n",
              "  cancel.remove();\n",
              "\n",
              "  // Disable the input element since further picks are not allowed.\n",
              "  inputElement.disabled = true;\n",
              "\n",
              "  if (!files) {\n",
              "    return {\n",
              "      response: {\n",
              "        action: 'complete',\n",
              "      }\n",
              "    };\n",
              "  }\n",
              "\n",
              "  for (const file of files) {\n",
              "    const li = document.createElement('li');\n",
              "    li.append(span(file.name, {fontWeight: 'bold'}));\n",
              "    li.append(span(\n",
              "        `(${file.type || 'n/a'}) - ${file.size} bytes, ` +\n",
              "        `last modified: ${\n",
              "            file.lastModifiedDate ? file.lastModifiedDate.toLocaleDateString() :\n",
              "                                    'n/a'} - `));\n",
              "    const percent = span('0% done');\n",
              "    li.appendChild(percent);\n",
              "\n",
              "    outputElement.appendChild(li);\n",
              "\n",
              "    const fileDataPromise = new Promise((resolve) => {\n",
              "      const reader = new FileReader();\n",
              "      reader.onload = (e) => {\n",
              "        resolve(e.target.result);\n",
              "      };\n",
              "      reader.readAsArrayBuffer(file);\n",
              "    });\n",
              "    // Wait for the data to be ready.\n",
              "    let fileData = yield {\n",
              "      promise: fileDataPromise,\n",
              "      response: {\n",
              "        action: 'continue',\n",
              "      }\n",
              "    };\n",
              "\n",
              "    // Use a chunked sending to avoid message size limits. See b/62115660.\n",
              "    let position = 0;\n",
              "    do {\n",
              "      const length = Math.min(fileData.byteLength - position, MAX_PAYLOAD_SIZE);\n",
              "      const chunk = new Uint8Array(fileData, position, length);\n",
              "      position += length;\n",
              "\n",
              "      const base64 = btoa(String.fromCharCode.apply(null, chunk));\n",
              "      yield {\n",
              "        response: {\n",
              "          action: 'append',\n",
              "          file: file.name,\n",
              "          data: base64,\n",
              "        },\n",
              "      };\n",
              "\n",
              "      let percentDone = fileData.byteLength === 0 ?\n",
              "          100 :\n",
              "          Math.round((position / fileData.byteLength) * 100);\n",
              "      percent.textContent = `${percentDone}% done`;\n",
              "\n",
              "    } while (position < fileData.byteLength);\n",
              "  }\n",
              "\n",
              "  // All done.\n",
              "  yield {\n",
              "    response: {\n",
              "      action: 'complete',\n",
              "    }\n",
              "  };\n",
              "}\n",
              "\n",
              "scope.google = scope.google || {};\n",
              "scope.google.colab = scope.google.colab || {};\n",
              "scope.google.colab._files = {\n",
              "  _uploadFiles,\n",
              "  _uploadFilesContinue,\n",
              "};\n",
              "})(self);\n",
              "</script> "
            ]
          },
          "metadata": {}
        },
        {
          "output_type": "stream",
          "name": "stdout",
          "text": [
            "Saving acceleration-is-not-all-you-need-ai-hardware.ipynb to acceleration-is-not-all-you-need-ai-hardware.ipynb\n"
          ]
        }
      ]
    },
    {
      "cell_type": "markdown",
      "source": [
        "Load the Dataset"
      ],
      "metadata": {
        "id": "Zbb7j_aWFbm0"
      }
    },
    {
      "cell_type": "code",
      "source": [
        "import pandas as pd\n",
        "\n",
        "# Define data manually\n",
        "data = {\n",
        "    'Patient_ID': [101, 102, 103, 104],\n",
        "    'Age': [45, 60, 30, 50],\n",
        "    'Gender': ['Female', 'Male', 'Female', 'Male'],\n",
        "    'Diagnosis': ['Diabetes', 'Hypertension', 'Asthma', 'Cardiovascular'],\n",
        "    'Treatment_Type': ['Telemedicine', 'In-person', 'Remote Monitoring', 'In-person'],\n",
        "    'Outcome': ['Improved', 'Stable', 'Improved', 'Declined']\n",
        "}\n",
        "\n",
        "# Create DataFrame\n",
        "df = pd.DataFrame(data)\n",
        "\n",
        "# Display the dataset\n",
        "print(\"Transforming Healthcare Dataset (Manually Created):\")\n",
        "print(df)\n"
      ],
      "metadata": {
        "colab": {
          "base_uri": "https://localhost:8080/"
        },
        "id": "05Z3oc2nFczb",
        "outputId": "28b8b60a-6580-45e1-a5a4-f3123d0b1731"
      },
      "execution_count": null,
      "outputs": [
        {
          "output_type": "stream",
          "name": "stdout",
          "text": [
            "Transforming Healthcare Dataset (Manually Created):\n",
            "   Patient_ID  Age  Gender       Diagnosis     Treatment_Type   Outcome\n",
            "0         101   45  Female        Diabetes       Telemedicine  Improved\n",
            "1         102   60    Male    Hypertension          In-person    Stable\n",
            "2         103   30  Female          Asthma  Remote Monitoring  Improved\n",
            "3         104   50    Male  Cardiovascular          In-person  Declined\n"
          ]
        }
      ]
    },
    {
      "cell_type": "markdown",
      "source": [
        "Data Exploration"
      ],
      "metadata": {
        "id": "NZ2AuaxJGc4p"
      }
    },
    {
      "cell_type": "code",
      "source": [
        "# Display first few rows\n",
        "df.head()"
      ],
      "metadata": {
        "colab": {
          "base_uri": "https://localhost:8080/",
          "height": 175
        },
        "id": "poKlnikPGdxZ",
        "outputId": "59f60a3c-9cc0-471e-8ce8-9950aa866e66"
      },
      "execution_count": null,
      "outputs": [
        {
          "output_type": "execute_result",
          "data": {
            "text/plain": [
              "   Patient_ID  Age  Gender       Diagnosis     Treatment_Type   Outcome\n",
              "0         101   45  Female        Diabetes       Telemedicine  Improved\n",
              "1         102   60    Male    Hypertension          In-person    Stable\n",
              "2         103   30  Female          Asthma  Remote Monitoring  Improved\n",
              "3         104   50    Male  Cardiovascular          In-person  Declined"
            ],
            "text/html": [
              "\n",
              "  <div id=\"df-8c4bc12d-1f89-48c2-897d-90e812f764c1\" class=\"colab-df-container\">\n",
              "    <div>\n",
              "<style scoped>\n",
              "    .dataframe tbody tr th:only-of-type {\n",
              "        vertical-align: middle;\n",
              "    }\n",
              "\n",
              "    .dataframe tbody tr th {\n",
              "        vertical-align: top;\n",
              "    }\n",
              "\n",
              "    .dataframe thead th {\n",
              "        text-align: right;\n",
              "    }\n",
              "</style>\n",
              "<table border=\"1\" class=\"dataframe\">\n",
              "  <thead>\n",
              "    <tr style=\"text-align: right;\">\n",
              "      <th></th>\n",
              "      <th>Patient_ID</th>\n",
              "      <th>Age</th>\n",
              "      <th>Gender</th>\n",
              "      <th>Diagnosis</th>\n",
              "      <th>Treatment_Type</th>\n",
              "      <th>Outcome</th>\n",
              "    </tr>\n",
              "  </thead>\n",
              "  <tbody>\n",
              "    <tr>\n",
              "      <th>0</th>\n",
              "      <td>101</td>\n",
              "      <td>45</td>\n",
              "      <td>Female</td>\n",
              "      <td>Diabetes</td>\n",
              "      <td>Telemedicine</td>\n",
              "      <td>Improved</td>\n",
              "    </tr>\n",
              "    <tr>\n",
              "      <th>1</th>\n",
              "      <td>102</td>\n",
              "      <td>60</td>\n",
              "      <td>Male</td>\n",
              "      <td>Hypertension</td>\n",
              "      <td>In-person</td>\n",
              "      <td>Stable</td>\n",
              "    </tr>\n",
              "    <tr>\n",
              "      <th>2</th>\n",
              "      <td>103</td>\n",
              "      <td>30</td>\n",
              "      <td>Female</td>\n",
              "      <td>Asthma</td>\n",
              "      <td>Remote Monitoring</td>\n",
              "      <td>Improved</td>\n",
              "    </tr>\n",
              "    <tr>\n",
              "      <th>3</th>\n",
              "      <td>104</td>\n",
              "      <td>50</td>\n",
              "      <td>Male</td>\n",
              "      <td>Cardiovascular</td>\n",
              "      <td>In-person</td>\n",
              "      <td>Declined</td>\n",
              "    </tr>\n",
              "  </tbody>\n",
              "</table>\n",
              "</div>\n",
              "    <div class=\"colab-df-buttons\">\n",
              "\n",
              "  <div class=\"colab-df-container\">\n",
              "    <button class=\"colab-df-convert\" onclick=\"convertToInteractive('df-8c4bc12d-1f89-48c2-897d-90e812f764c1')\"\n",
              "            title=\"Convert this dataframe to an interactive table.\"\n",
              "            style=\"display:none;\">\n",
              "\n",
              "  <svg xmlns=\"http://www.w3.org/2000/svg\" height=\"24px\" viewBox=\"0 -960 960 960\">\n",
              "    <path d=\"M120-120v-720h720v720H120Zm60-500h600v-160H180v160Zm220 220h160v-160H400v160Zm0 220h160v-160H400v160ZM180-400h160v-160H180v160Zm440 0h160v-160H620v160ZM180-180h160v-160H180v160Zm440 0h160v-160H620v160Z\"/>\n",
              "  </svg>\n",
              "    </button>\n",
              "\n",
              "  <style>\n",
              "    .colab-df-container {\n",
              "      display:flex;\n",
              "      gap: 12px;\n",
              "    }\n",
              "\n",
              "    .colab-df-convert {\n",
              "      background-color: #E8F0FE;\n",
              "      border: none;\n",
              "      border-radius: 50%;\n",
              "      cursor: pointer;\n",
              "      display: none;\n",
              "      fill: #1967D2;\n",
              "      height: 32px;\n",
              "      padding: 0 0 0 0;\n",
              "      width: 32px;\n",
              "    }\n",
              "\n",
              "    .colab-df-convert:hover {\n",
              "      background-color: #E2EBFA;\n",
              "      box-shadow: 0px 1px 2px rgba(60, 64, 67, 0.3), 0px 1px 3px 1px rgba(60, 64, 67, 0.15);\n",
              "      fill: #174EA6;\n",
              "    }\n",
              "\n",
              "    .colab-df-buttons div {\n",
              "      margin-bottom: 4px;\n",
              "    }\n",
              "\n",
              "    [theme=dark] .colab-df-convert {\n",
              "      background-color: #3B4455;\n",
              "      fill: #D2E3FC;\n",
              "    }\n",
              "\n",
              "    [theme=dark] .colab-df-convert:hover {\n",
              "      background-color: #434B5C;\n",
              "      box-shadow: 0px 1px 3px 1px rgba(0, 0, 0, 0.15);\n",
              "      filter: drop-shadow(0px 1px 2px rgba(0, 0, 0, 0.3));\n",
              "      fill: #FFFFFF;\n",
              "    }\n",
              "  </style>\n",
              "\n",
              "    <script>\n",
              "      const buttonEl =\n",
              "        document.querySelector('#df-8c4bc12d-1f89-48c2-897d-90e812f764c1 button.colab-df-convert');\n",
              "      buttonEl.style.display =\n",
              "        google.colab.kernel.accessAllowed ? 'block' : 'none';\n",
              "\n",
              "      async function convertToInteractive(key) {\n",
              "        const element = document.querySelector('#df-8c4bc12d-1f89-48c2-897d-90e812f764c1');\n",
              "        const dataTable =\n",
              "          await google.colab.kernel.invokeFunction('convertToInteractive',\n",
              "                                                    [key], {});\n",
              "        if (!dataTable) return;\n",
              "\n",
              "        const docLinkHtml = 'Like what you see? Visit the ' +\n",
              "          '<a target=\"_blank\" href=https://colab.research.google.com/notebooks/data_table.ipynb>data table notebook</a>'\n",
              "          + ' to learn more about interactive tables.';\n",
              "        element.innerHTML = '';\n",
              "        dataTable['output_type'] = 'display_data';\n",
              "        await google.colab.output.renderOutput(dataTable, element);\n",
              "        const docLink = document.createElement('div');\n",
              "        docLink.innerHTML = docLinkHtml;\n",
              "        element.appendChild(docLink);\n",
              "      }\n",
              "    </script>\n",
              "  </div>\n",
              "\n",
              "\n",
              "    <div id=\"df-e73d07bd-fd7d-4e83-b710-d0b9d7d47811\">\n",
              "      <button class=\"colab-df-quickchart\" onclick=\"quickchart('df-e73d07bd-fd7d-4e83-b710-d0b9d7d47811')\"\n",
              "                title=\"Suggest charts\"\n",
              "                style=\"display:none;\">\n",
              "\n",
              "<svg xmlns=\"http://www.w3.org/2000/svg\" height=\"24px\"viewBox=\"0 0 24 24\"\n",
              "     width=\"24px\">\n",
              "    <g>\n",
              "        <path d=\"M19 3H5c-1.1 0-2 .9-2 2v14c0 1.1.9 2 2 2h14c1.1 0 2-.9 2-2V5c0-1.1-.9-2-2-2zM9 17H7v-7h2v7zm4 0h-2V7h2v10zm4 0h-2v-4h2v4z\"/>\n",
              "    </g>\n",
              "</svg>\n",
              "      </button>\n",
              "\n",
              "<style>\n",
              "  .colab-df-quickchart {\n",
              "      --bg-color: #E8F0FE;\n",
              "      --fill-color: #1967D2;\n",
              "      --hover-bg-color: #E2EBFA;\n",
              "      --hover-fill-color: #174EA6;\n",
              "      --disabled-fill-color: #AAA;\n",
              "      --disabled-bg-color: #DDD;\n",
              "  }\n",
              "\n",
              "  [theme=dark] .colab-df-quickchart {\n",
              "      --bg-color: #3B4455;\n",
              "      --fill-color: #D2E3FC;\n",
              "      --hover-bg-color: #434B5C;\n",
              "      --hover-fill-color: #FFFFFF;\n",
              "      --disabled-bg-color: #3B4455;\n",
              "      --disabled-fill-color: #666;\n",
              "  }\n",
              "\n",
              "  .colab-df-quickchart {\n",
              "    background-color: var(--bg-color);\n",
              "    border: none;\n",
              "    border-radius: 50%;\n",
              "    cursor: pointer;\n",
              "    display: none;\n",
              "    fill: var(--fill-color);\n",
              "    height: 32px;\n",
              "    padding: 0;\n",
              "    width: 32px;\n",
              "  }\n",
              "\n",
              "  .colab-df-quickchart:hover {\n",
              "    background-color: var(--hover-bg-color);\n",
              "    box-shadow: 0 1px 2px rgba(60, 64, 67, 0.3), 0 1px 3px 1px rgba(60, 64, 67, 0.15);\n",
              "    fill: var(--button-hover-fill-color);\n",
              "  }\n",
              "\n",
              "  .colab-df-quickchart-complete:disabled,\n",
              "  .colab-df-quickchart-complete:disabled:hover {\n",
              "    background-color: var(--disabled-bg-color);\n",
              "    fill: var(--disabled-fill-color);\n",
              "    box-shadow: none;\n",
              "  }\n",
              "\n",
              "  .colab-df-spinner {\n",
              "    border: 2px solid var(--fill-color);\n",
              "    border-color: transparent;\n",
              "    border-bottom-color: var(--fill-color);\n",
              "    animation:\n",
              "      spin 1s steps(1) infinite;\n",
              "  }\n",
              "\n",
              "  @keyframes spin {\n",
              "    0% {\n",
              "      border-color: transparent;\n",
              "      border-bottom-color: var(--fill-color);\n",
              "      border-left-color: var(--fill-color);\n",
              "    }\n",
              "    20% {\n",
              "      border-color: transparent;\n",
              "      border-left-color: var(--fill-color);\n",
              "      border-top-color: var(--fill-color);\n",
              "    }\n",
              "    30% {\n",
              "      border-color: transparent;\n",
              "      border-left-color: var(--fill-color);\n",
              "      border-top-color: var(--fill-color);\n",
              "      border-right-color: var(--fill-color);\n",
              "    }\n",
              "    40% {\n",
              "      border-color: transparent;\n",
              "      border-right-color: var(--fill-color);\n",
              "      border-top-color: var(--fill-color);\n",
              "    }\n",
              "    60% {\n",
              "      border-color: transparent;\n",
              "      border-right-color: var(--fill-color);\n",
              "    }\n",
              "    80% {\n",
              "      border-color: transparent;\n",
              "      border-right-color: var(--fill-color);\n",
              "      border-bottom-color: var(--fill-color);\n",
              "    }\n",
              "    90% {\n",
              "      border-color: transparent;\n",
              "      border-bottom-color: var(--fill-color);\n",
              "    }\n",
              "  }\n",
              "</style>\n",
              "\n",
              "      <script>\n",
              "        async function quickchart(key) {\n",
              "          const quickchartButtonEl =\n",
              "            document.querySelector('#' + key + ' button');\n",
              "          quickchartButtonEl.disabled = true;  // To prevent multiple clicks.\n",
              "          quickchartButtonEl.classList.add('colab-df-spinner');\n",
              "          try {\n",
              "            const charts = await google.colab.kernel.invokeFunction(\n",
              "                'suggestCharts', [key], {});\n",
              "          } catch (error) {\n",
              "            console.error('Error during call to suggestCharts:', error);\n",
              "          }\n",
              "          quickchartButtonEl.classList.remove('colab-df-spinner');\n",
              "          quickchartButtonEl.classList.add('colab-df-quickchart-complete');\n",
              "        }\n",
              "        (() => {\n",
              "          let quickchartButtonEl =\n",
              "            document.querySelector('#df-e73d07bd-fd7d-4e83-b710-d0b9d7d47811 button');\n",
              "          quickchartButtonEl.style.display =\n",
              "            google.colab.kernel.accessAllowed ? 'block' : 'none';\n",
              "        })();\n",
              "      </script>\n",
              "    </div>\n",
              "\n",
              "    </div>\n",
              "  </div>\n"
            ],
            "application/vnd.google.colaboratory.intrinsic+json": {
              "type": "dataframe",
              "variable_name": "df",
              "summary": "{\n  \"name\": \"df\",\n  \"rows\": 4,\n  \"fields\": [\n    {\n      \"column\": \"Patient_ID\",\n      \"properties\": {\n        \"dtype\": \"number\",\n        \"std\": 1,\n        \"min\": 101,\n        \"max\": 104,\n        \"num_unique_values\": 4,\n        \"samples\": [\n          102,\n          104,\n          101\n        ],\n        \"semantic_type\": \"\",\n        \"description\": \"\"\n      }\n    },\n    {\n      \"column\": \"Age\",\n      \"properties\": {\n        \"dtype\": \"number\",\n        \"std\": 12,\n        \"min\": 30,\n        \"max\": 60,\n        \"num_unique_values\": 4,\n        \"samples\": [\n          60,\n          50,\n          45\n        ],\n        \"semantic_type\": \"\",\n        \"description\": \"\"\n      }\n    },\n    {\n      \"column\": \"Gender\",\n      \"properties\": {\n        \"dtype\": \"string\",\n        \"num_unique_values\": 2,\n        \"samples\": [\n          \"Male\",\n          \"Female\"\n        ],\n        \"semantic_type\": \"\",\n        \"description\": \"\"\n      }\n    },\n    {\n      \"column\": \"Diagnosis\",\n      \"properties\": {\n        \"dtype\": \"string\",\n        \"num_unique_values\": 4,\n        \"samples\": [\n          \"Hypertension\",\n          \"Cardiovascular\"\n        ],\n        \"semantic_type\": \"\",\n        \"description\": \"\"\n      }\n    },\n    {\n      \"column\": \"Treatment_Type\",\n      \"properties\": {\n        \"dtype\": \"string\",\n        \"num_unique_values\": 3,\n        \"samples\": [\n          \"Telemedicine\",\n          \"In-person\"\n        ],\n        \"semantic_type\": \"\",\n        \"description\": \"\"\n      }\n    },\n    {\n      \"column\": \"Outcome\",\n      \"properties\": {\n        \"dtype\": \"string\",\n        \"num_unique_values\": 3,\n        \"samples\": [\n          \"Improved\",\n          \"Stable\"\n        ],\n        \"semantic_type\": \"\",\n        \"description\": \"\"\n      }\n    }\n  ]\n}"
            }
          },
          "metadata": {},
          "execution_count": 3
        }
      ]
    },
    {
      "cell_type": "markdown",
      "source": [
        "Check for Missing Values and Duplicates"
      ],
      "metadata": {
        "id": "xJJXAxskG0vJ"
      }
    },
    {
      "cell_type": "code",
      "source": [
        "# Check for missing values\n",
        "print(df.isnull().sum())\n",
        "# Check for duplicates\n",
        "print(\"Duplicate rows:\", df.duplicated().sum())"
      ],
      "metadata": {
        "colab": {
          "base_uri": "https://localhost:8080/"
        },
        "id": "h8fYYRm6G5BJ",
        "outputId": "978aec54-2cfb-417e-96dd-108f2ab0c7a8"
      },
      "execution_count": null,
      "outputs": [
        {
          "output_type": "stream",
          "name": "stdout",
          "text": [
            "Patient_ID        0\n",
            "Age               0\n",
            "Gender            0\n",
            "Diagnosis         0\n",
            "Treatment_Type    0\n",
            "Outcome           0\n",
            "dtype: int64\n",
            "Duplicate rows: 0\n"
          ]
        }
      ]
    },
    {
      "cell_type": "markdown",
      "source": [
        "Visualize a Few Features"
      ],
      "metadata": {
        "id": "X7XHr5iPG8sh"
      }
    },
    {
      "cell_type": "code",
      "source": [
        "import pandas as pd\n",
        "import matplotlib.pyplot as plt\n",
        "import seaborn as sns\n",
        "\n",
        "# Define the data\n",
        "data = {\n",
        "    'Patient_ID': [101, 102, 103, 104, 105, 106, 107, 108],\n",
        "    'Age': [45, 60, 30, 50, 39, 67, 28, 55],\n",
        "    'Gender': ['Female', 'Male', 'Female', 'Male', 'Female', 'Male', 'Female', 'Male'],\n",
        "    'Diagnosis': ['Diabetes', 'Hypertension', 'Asthma', 'Cardiovascular', 'Diabetes', 'Asthma', 'Hypertension', 'Diabetes'],\n",
        "    'Treatment_Type': ['Telemedicine', 'In-person', 'Remote Monitoring', 'In-person', 'Telemedicine', 'Remote Monitoring', 'In-person', 'Telemedicine'],\n",
        "    'Outcome': ['Improved', 'Stable', 'Improved', 'Declined', 'Improved', 'Stable', 'Improved', 'Declined']\n",
        "}\n",
        "\n",
        "# Create DataFrame\n",
        "df = pd.DataFrame(data)\n",
        "\n",
        "# Set style\n",
        "sns.set(style=\"whitegrid\")\n",
        "\n",
        "# 1. Age Distribution\n",
        "plt.figure(figsize=(6, 4))\n",
        "sns.histplot(df['Age'], bins=5, kde=True, color='skyblue')\n",
        "plt.title('Age Distribution')\n",
        "plt.xlabel('Age')\n",
        "plt.ylabel('Frequency')\n",
        "plt.show()\n",
        "\n",
        "# 2. Treatment Type Count\n",
        "plt.figure(figsize=(6, 4))\n",
        "sns.countplot(data=df, x='Treatment_Type', palette='Set2')\n",
        "plt.title('Count of Patients by Treatment Type')\n",
        "plt.xlabel('Treatment Type')\n",
        "plt.ylabel('Count')\n",
        "plt.xticks(rotation=15)\n",
        "plt.show()\n",
        "\n",
        "# 3. Outcome by Gender\n",
        "plt.figure(figsize=(6, 4))\n",
        "sns.countplot(data=df, x='Gender', hue='Outcome', palette='pastel')\n",
        "plt.title('Treatment Outcome by Gender')\n",
        "plt.xlabel('Gender')\n",
        "plt.ylabel('Count')\n",
        "plt.legend(title='Outcome')\n",
        "plt.show()\n"
      ],
      "metadata": {
        "colab": {
          "base_uri": "https://localhost:8080/",
          "height": 1000
        },
        "id": "2ou_SfQtHLjb",
        "outputId": "f92502d4-8384-4b88-8786-b4d7be5c9e19"
      },
      "execution_count": null,
      "outputs": [
        {
          "output_type": "display_data",
          "data": {
            "text/plain": [
              "<Figure size 600x400 with 1 Axes>"
            ],
            "image/png": "[encoded data removed]"
          },
          "metadata": {}
        },
        {
          "output_type": "stream",
          "name": "stderr",
          "text": [
            "<ipython-input-6-4e39fe94b954>:31: FutureWarning: \n",
            "\n",
            "Passing `palette` without assigning `hue` is deprecated and will be removed in v0.14.0. Assign the `x` variable to `hue` and set `legend=False` for the same effect.\n",
            "\n",
            "  sns.countplot(data=df, x='Treatment_Type', palette='Set2')\n"
          ]
        },
        {
          "output_type": "display_data",
          "data": {
            "text/plain": [
              "<Figure size 600x400 with 1 Axes>"
            ],
            "image/png": "[encoded data removed]"
          },
          "metadata": {}
        },
        {
          "output_type": "display_data",
          "data": {
            "text/plain": [
              "<Figure size 600x400 with 1 Axes>"
            ],
            "image/png": "[encoded data removed]"
          },
          "metadata": {}
        }
      ]
    },
    {
      "cell_type": "markdown",
      "source": [
        "Identify Target and Features"
      ],
      "metadata": {
        "id": "wy6AgzYAHZuR"
      }
    },
    {
      "cell_type": "code",
      "source": [
        "import pandas as pd\n",
        "\n",
        "# Define the dataset\n",
        "data = {\n",
        "    'Patient_ID': [101, 102, 103, 104, 105, 106, 107, 108],\n",
        "    'Age': [45, 60, 30, 50, 39, 67, 28, 55],\n",
        "    'Gender': ['Female', 'Male', 'Female', 'Male', 'Female', 'Male', 'Female', 'Male'],\n",
        "    'Diagnosis': ['Diabetes', 'Hypertension', 'Asthma', 'Cardiovascular', 'Diabetes', 'Asthma', 'Hypertension', 'Diabetes'],\n",
        "    'Treatment_Type': ['Telemedicine', 'In-person', 'Remote Monitoring', 'In-person', 'Telemedicine', 'Remote Monitoring', 'In-person', 'Telemedicine'],\n",
        "    'Outcome': ['Improved', 'Stable', 'Improved', 'Declined', 'Improved', 'Stable', 'Improved', 'Declined']\n",
        "}\n",
        "\n",
        "# Create a DataFrame\n",
        "df = pd.DataFrame(data)\n",
        "\n",
        "# Identify target and features\n",
        "target = 'Outcome'\n",
        "features = df.drop(columns=['Patient_ID', target])  # Exclude ID and target\n",
        "target_values = df[target]\n",
        "\n",
        "# Display results\n",
        "print(\"🎯 Target Variable:\")\n",
        "print(target)\n",
        "print(\"\\n✅ Features:\")\n",
        "print(features.columns.tolist())\n",
        "\n",
        "print(\"\\n📊 Feature Data Sample:\")\n",
        "print(features.head())\n",
        "\n",
        "print(\"\\n🎯 Target Values Sample:\")\n",
        "print(target_values.head())\n"
      ],
      "metadata": {
        "colab": {
          "base_uri": "https://localhost:8080/"
        },
        "id": "TqMFUIRTHxlw",
        "outputId": "73057527-91ad-4e7c-91bc-0971383d3a3c"
      },
      "execution_count": null,
      "outputs": [
        {
          "output_type": "stream",
          "name": "stdout",
          "text": [
            "🎯 Target Variable:\n",
            "Outcome\n",
            "\n",
            "✅ Features:\n",
            "['Age', 'Gender', 'Diagnosis', 'Treatment_Type']\n",
            "\n",
            "📊 Feature Data Sample:\n",
            "   Age  Gender       Diagnosis     Treatment_Type\n",
            "0   45  Female        Diabetes       Telemedicine\n",
            "1   60    Male    Hypertension          In-person\n",
            "2   30  Female          Asthma  Remote Monitoring\n",
            "3   50    Male  Cardiovascular          In-person\n",
            "4   39  Female        Diabetes       Telemedicine\n",
            "\n",
            "🎯 Target Values Sample:\n",
            "0    Improved\n",
            "1      Stable\n",
            "2    Improved\n",
            "3    Declined\n",
            "4    Improved\n",
            "Name: Outcome, dtype: object\n"
          ]
        }
      ]
    },
    {
      "cell_type": "markdown",
      "source": [
        "Convert Categorical Columns to Numerical"
      ],
      "metadata": {
        "id": "LhI9FtsPHzUT"
      }
    },
    {
      "cell_type": "code",
      "source": [
        "# Identify categorical columns\n",
        "categorical_cols = df.select_dtypes(include=['object']).columns\n",
        "print(\"Categorical Columns:\", categorical_cols.tolist())"
      ],
      "metadata": {
        "colab": {
          "base_uri": "https://localhost:8080/"
        },
        "id": "1c5sOT96H2ch",
        "outputId": "946f8269-8185-4be1-cb9d-90f13127fb41"
      },
      "execution_count": null,
      "outputs": [
        {
          "output_type": "stream",
          "name": "stdout",
          "text": [
            "Categorical Columns: ['Gender', 'Diagnosis', 'Treatment_Type', 'Outcome']\n"
          ]
        }
      ]
    },
    {
      "cell_type": "markdown",
      "source": [
        "One-Hot Encoding"
      ],
      "metadata": {
        "id": "NXLNKut_H7Kr"
      }
    },
    {
      "cell_type": "code",
      "source": [
        "df_encoded = pd.get_dummies(df, drop_first=True)\n"
      ],
      "metadata": {
        "id": "8kfc-qsuH-bC"
      },
      "execution_count": null,
      "outputs": []
    },
    {
      "cell_type": "markdown",
      "source": [
        "Feature Scaling"
      ],
      "metadata": {
        "id": "_bNF_Sj8ILX5"
      }
    },
    {
      "cell_type": "code",
      "source": [
        "import pandas as pd\n",
        "from sklearn.preprocessing import StandardScaler, MinMaxScaler\n",
        "\n",
        "# Define the dataset\n",
        "data = {\n",
        "    'Patient_ID': [101, 102, 103, 104, 105, 106, 107, 108],\n",
        "    'Age': [45, 60, 30, 50, 39, 67, 28, 55],\n",
        "    'Gender': ['Female', 'Male', 'Female', 'Male', 'Female', 'Male', 'Female', 'Male'],\n",
        "    'Diagnosis': ['Diabetes', 'Hypertension', 'Asthma', 'Cardiovascular', 'Diabetes', 'Asthma', 'Hypertension', 'Diabetes'],\n",
        "    'Treatment_Type': ['Telemedicine', 'In-person', 'Remote Monitoring', 'In-person', 'Telemedicine', 'Remote Monitoring', 'In-person', 'Telemedicine'],\n",
        "    'Outcome': ['Improved', 'Stable', 'Improved', 'Declined', 'Improved', 'Stable', 'Improved', 'Declined']\n",
        "}\n",
        "\n",
        "# Create DataFrame\n",
        "df = pd.DataFrame(data)\n",
        "\n",
        "# Feature scaling for numerical columns\n",
        "features = df[['Age']]  # Only scaling 'Age' (numerical feature)\n",
        "\n",
        "# Standardization (z-score normalization)\n",
        "scaler_standard = StandardScaler()\n",
        "df['Age_standardized'] = scaler_standard.fit_transform(features)\n",
        "\n",
        "# Min-Max Scaling\n",
        "scaler_minmax = MinMaxScaler()\n",
        "df['Age_minmax'] = scaler_minmax.fit_transform(features)\n",
        "\n",
        "# Display the scaled features\n",
        "print(\"Original DataFrame with Scaled Features:\")\n",
        "print(df[['Patient_ID', 'Age', 'Age_standardized', 'Age_minmax']])\n"
      ],
      "metadata": {
        "colab": {
          "base_uri": "https://localhost:8080/"
        },
        "id": "Zl2XfvyJIhAi",
        "outputId": "70147e14-c303-4e92-edd2-e8044d1fadd7"
      },
      "execution_count": null,
      "outputs": [
        {
          "output_type": "stream",
          "name": "stdout",
          "text": [
            "Original DataFrame with Scaled Features:\n",
            "   Patient_ID  Age  Age_standardized  Age_minmax\n",
            "0         101   45         -0.134244    0.435897\n",
            "1         102   60          1.016415    0.820513\n",
            "2         103   30         -1.284903    0.051282\n",
            "3         104   50          0.249309    0.564103\n",
            "4         105   39         -0.594507    0.282051\n",
            "5         106   67          1.553390    1.000000\n",
            "6         107   28         -1.438324    0.000000\n",
            "7         108   55          0.632862    0.692308\n"
          ]
        }
      ]
    },
    {
      "cell_type": "markdown",
      "source": [
        "Train-Test Split"
      ],
      "metadata": {
        "id": "uyitEuqaIimR"
      }
    },
    {
      "cell_type": "code",
      "source": [
        "import pandas as pd\n",
        "from sklearn.model_selection import train_test_split\n",
        "from sklearn.preprocessing import LabelEncoder\n",
        "\n",
        "# Define the dataset\n",
        "data = {\n",
        "    'Patient_ID': [101, 102, 103, 104, 105, 106, 107, 108],\n",
        "    'Age': [45, 60, 30, 50, 39, 67, 28, 55],\n",
        "    'Gender': ['Female', 'Male', 'Female', 'Male', 'Female', 'Male', 'Female', 'Male'],\n",
        "    'Diagnosis': ['Diabetes', 'Hypertension', 'Asthma', 'Cardiovascular', 'Diabetes', 'Asthma', 'Hypertension', 'Diabetes'],\n",
        "    'Treatment_Type': ['Telemedicine', 'In-person', 'Remote Monitoring', 'In-person', 'Telemedicine', 'Remote Monitoring', 'In-person', 'Telemedicine'],\n",
        "    'Outcome': ['Improved', 'Stable', 'Improved', 'Declined', 'Improved', 'Stable', 'Improved', 'Declined']\n",
        "}\n",
        "\n",
        "# Create DataFrame\n",
        "df = pd.DataFrame(data)\n",
        "\n",
        "# Encode categorical columns using LabelEncoder\n",
        "label_encoder = LabelEncoder()\n",
        "\n",
        "# Encoding 'Gender', 'Diagnosis', 'Treatment_Type', and 'Outcome'\n",
        "df['Gender'] = label_encoder.fit_transform(df['Gender'])\n",
        "df['Diagnosis'] = label_encoder.fit_transform(df['Diagnosis'])\n",
        "df['Treatment_Type'] = label_encoder.fit_transform(df['Treatment_Type'])\n",
        "df['Outcome'] = label_encoder.fit_transform(df['Outcome'])  # Target variable\n",
        "\n",
        "# Features and target\n",
        "X = df[['Age', 'Gender', 'Diagnosis', 'Treatment_Type']]  # Features\n",
        "y = df['Outcome']  # Target variable\n",
        "\n",
        "# Train-test split (80% train, 20% test)\n",
        "X_train, X_test, y_train, y_test = train_test_split(X, y, test_size=0.2, random_state=42)\n",
        "\n",
        "# Display train and test sets\n",
        "print(\"Training Features (X_train):\")\n",
        "print(X_train)\n",
        "print(\"\\nTesting Features (X_test):\")\n",
        "print(X_test)\n",
        "\n",
        "print(\"\\nTraining Target (y_train):\")\n",
        "print(y_train)\n",
        "print(\"\\nTesting Target (y_test):\")\n",
        "print(y_test)\n"
      ],
      "metadata": {
        "colab": {
          "base_uri": "https://localhost:8080/"
        },
        "id": "wN9_AM4JIyta",
        "outputId": "27da2224-f870-4837-fd92-51577846e8f7"
      },
      "execution_count": null,
      "outputs": [
        {
          "output_type": "stream",
          "name": "stdout",
          "text": [
            "Training Features (X_train):\n",
            "   Age  Gender  Diagnosis  Treatment_Type\n",
            "0   45       0          2               2\n",
            "7   55       1          2               2\n",
            "2   30       0          0               1\n",
            "4   39       0          2               2\n",
            "3   50       1          1               0\n",
            "6   28       0          3               0\n",
            "\n",
            "Testing Features (X_test):\n",
            "   Age  Gender  Diagnosis  Treatment_Type\n",
            "1   60       1          3               0\n",
            "5   67       1          0               1\n",
            "\n",
            "Training Target (y_train):\n",
            "0    1\n",
            "7    0\n",
            "2    1\n",
            "4    1\n",
            "3    0\n",
            "6    1\n",
            "Name: Outcome, dtype: int64\n",
            "\n",
            "Testing Target (y_test):\n",
            "1    2\n",
            "5    2\n",
            "Name: Outcome, dtype: int64\n"
          ]
        }
      ]
    },
    {
      "cell_type": "markdown",
      "source": [
        "Model Building"
      ],
      "metadata": {
        "id": "KasJVvQlI0gy"
      }
    },
    {
      "cell_type": "code",
      "source": [
        "# Train model\n",
        "model = LinearRegression()\n",
        "model.fit(X_train, y_train)\n",
        "# Predict\n",
        "y_pred = model.predict(X_test)"
      ],
      "metadata": {
        "id": "Kq7KTE8rI2hb"
      },
      "execution_count": null,
      "outputs": []
    },
    {
      "cell_type": "markdown",
      "source": [
        "Evaluation"
      ],
      "metadata": {
        "id": "ejk4evJxI6Ex"
      }
    },
    {
      "cell_type": "code",
      "source": [
        "# Evaluate\n",
        "print(\"MSE:\", mean_squared_error(y_test, y_pred))\n",
        "print(\"R2 Score:\", r2_score(y_test, y_pred))"
      ],
      "metadata": {
        "colab": {
          "base_uri": "https://localhost:8080/"
        },
        "id": "-_Jgo1leI8b5",
        "outputId": "77f2f436-7282-440f-8029-529c39496aa2"
      },
      "execution_count": null,
      "outputs": [
        {
          "output_type": "stream",
          "name": "stdout",
          "text": [
            "MSE: 4.0\n",
            "R2 Score: 0.0\n"
          ]
        }
      ]
    },
    {
      "cell_type": "markdown",
      "source": [
        "Make Predictions from New Input"
      ],
      "metadata": {
        "id": "SlbFaLasJCfp"
      }
    },
    {
      "cell_type": "code",
      "source": [
        "# Sample input (replace values with any other valid values from the original dataset)\n",
        "new_student = {\n",
        "'school': 'GP', # 'GP' or 'MS'\n",
        "'sex': 'F', # 'F' or 'M'\n",
        "'age': 17, # Integer\n",
        "'address': 'U', # 'U' or 'R'\n",
        "'famsize': 'GT3', # 'LE3' or 'GT3'\n",
        "'Pstatus': 'A', # 'A' or 'T'\n",
        "'Medu': 4, # 0 to 4\n",
        "'Fedu': 3, # 0 to 4\n",
        "'Mjob': 'health', # 'teacher', 'health', etc.\n",
        "'Fjob': 'services',\n",
        "'reason': 'course',\n",
        "'guardian': 'mother',\n",
        "'traveltime': 2,\n",
        "'studytime': 3,\n",
        "'failures': 0,\n",
        "'schoolsup': 'yes',\n",
        "'famsup': 'no',\n",
        "'paid': 'no',\n",
        "'activities': 'yes',\n",
        "'nursery': 'yes',\n",
        "'higher': 'yes',\n",
        "'internet': 'yes',\n",
        "'romantic': 'no',\n",
        "'famrel': 4,\n",
        "'freetime': 3,\n",
        "'goout': 3,\n",
        "'Dalc': 1,\n",
        "'Walc': 1,\n",
        "'health': 4,\n",
        "'absences': 2,\n",
        "                'G1': 14,\n",
        "'G2': 15\n",
        "}"
      ],
      "metadata": {
        "id": "5v7hmY1BJE8s"
      },
      "execution_count": null,
      "outputs": []
    },
    {
      "cell_type": "markdown",
      "source": [
        "Convert to DataFrame and Encode"
      ],
      "metadata": {
        "id": "Na1uQlouJOm5"
      }
    },
    {
      "cell_type": "code",
      "source": [
        "import pandas as pd\n",
        "from sklearn.preprocessing import LabelEncoder\n",
        "\n",
        "# Define the dataset\n",
        "data = {\n",
        "    'Patient_ID': [101, 102, 103, 104, 105, 106, 107, 108],\n",
        "    'Age': [45, 60, 30, 50, 39, 67, 28, 55],\n",
        "    'Gender': ['Female', 'Male', 'Female', 'Male', 'Female', 'Male', 'Female', 'Male'],\n",
        "    'Diagnosis': ['Diabetes', 'Hypertension', 'Asthma', 'Cardiovascular', 'Diabetes', 'Asthma', 'Hypertension', 'Diabetes'],\n",
        "    'Treatment_Type': ['Telemedicine', 'In-person', 'Remote Monitoring', 'In-person', 'Telemedicine', 'Remote Monitoring', 'In-person', 'Telemedicine'],\n",
        "    'Outcome': ['Improved', 'Stable', 'Improved', 'Declined', 'Improved', 'Stable', 'Improved', 'Declined']\n",
        "}\n",
        "\n",
        "# Convert to DataFrame\n",
        "df = pd.DataFrame(data)\n",
        "\n",
        "# Display the original DataFrame\n",
        "print(\"Original DataFrame:\")\n",
        "print(df)\n",
        "\n",
        "# Encode categorical columns using LabelEncoder\n",
        "label_encoder = LabelEncoder()\n",
        "\n",
        "# Encoding 'Gender', 'Diagnosis', 'Treatment_Type', and 'Outcome'\n",
        "df['Gender'] = label_encoder.fit_transform(df['Gender'])\n",
        "df['Diagnosis'] = label_encoder.fit_transform(df['Diagnosis'])\n",
        "df['Treatment_Type'] = label_encoder.fit_transform(df['Treatment_Type'])\n",
        "df['Outcome'] = label_encoder.fit_transform(df['Outcome'])  # Target variable\n",
        "\n",
        "# Display the DataFrame after encoding\n",
        "print(\"\\nDataFrame After Encoding:\")\n",
        "print(df)\n"
      ],
      "metadata": {
        "colab": {
          "base_uri": "https://localhost:8080/"
        },
        "id": "uL60wOQxJj5a",
        "outputId": "8b67e14e-59b7-495e-a117-9b145052fd9a"
      },
      "execution_count": null,
      "outputs": [
        {
          "output_type": "stream",
          "name": "stdout",
          "text": [
            "Original DataFrame:\n",
            "   Patient_ID  Age  Gender       Diagnosis     Treatment_Type   Outcome\n",
            "0         101   45  Female        Diabetes       Telemedicine  Improved\n",
            "1         102   60    Male    Hypertension          In-person    Stable\n",
            "2         103   30  Female          Asthma  Remote Monitoring  Improved\n",
            "3         104   50    Male  Cardiovascular          In-person  Declined\n",
            "4         105   39  Female        Diabetes       Telemedicine  Improved\n",
            "5         106   67    Male          Asthma  Remote Monitoring    Stable\n",
            "6         107   28  Female    Hypertension          In-person  Improved\n",
            "7         108   55    Male        Diabetes       Telemedicine  Declined\n",
            "\n",
            "DataFrame After Encoding:\n",
            "   Patient_ID  Age  Gender  Diagnosis  Treatment_Type  Outcome\n",
            "0         101   45       0          2               2        1\n",
            "1         102   60       1          3               0        2\n",
            "2         103   30       0          0               1        1\n",
            "3         104   50       1          1               0        0\n",
            "4         105   39       0          2               2        1\n",
            "5         106   67       1          0               1        2\n",
            "6         107   28       0          3               0        1\n",
            "7         108   55       1          2               2        0\n"
          ]
        }
      ]
    },
    {
      "cell_type": "markdown",
      "source": [
        "Predict the Final Grade"
      ],
      "metadata": {
        "id": "eX-tm57bJljj"
      }
    },
    {
      "cell_type": "code",
      "source": [
        "import pandas as pd\n",
        "from sklearn.model_selection import train_test_split\n",
        "from sklearn.preprocessing import LabelEncoder\n",
        "from sklearn.linear_model import LogisticRegression\n",
        "from sklearn.metrics import accuracy_score\n",
        "\n",
        "# Define the dataset (using a small sample for illustration)\n",
        "data = {\n",
        "    'Patient_ID': [101, 102, 103, 104, 105, 106, 107, 108],\n",
        "    'Age': [45, 60, 30, 50, 39, 67, 28, 55],\n",
        "    'Gender': ['Female', 'Male', 'Female', 'Male', 'Female', 'Male', 'Female', 'Male'],\n",
        "    'Diagnosis': ['Diabetes', 'Hypertension', 'Asthma', 'Cardiovascular', 'Diabetes', 'Asthma', 'Hypertension', 'Diabetes'],\n",
        "    'Treatment_Type': ['Telemedicine', 'In-person', 'Remote Monitoring', 'In-person', 'Telemedicine', 'Remote Monitoring', 'In-person', 'Telemedicine'],\n",
        "    'Outcome': ['Improved', 'Stable', 'Improved', 'Declined', 'Improved', 'Stable', 'Improved', 'Declined']\n",
        "}\n",
        "\n",
        "# Convert to DataFrame\n",
        "df = pd.DataFrame(data)\n",
        "\n",
        "# Encode categorical variables using LabelEncoder\n",
        "label_encoder = LabelEncoder()\n",
        "\n",
        "# Encode the categorical columns\n",
        "df['Gender'] = label_encoder.fit_transform(df['Gender'])\n",
        "df['Diagnosis'] = label_encoder.fit_transform(df['Diagnosis'])\n",
        "df['Treatment_Type'] = label_encoder.fit_transform(df['Treatment_Type'])\n",
        "df['Outcome'] = label_encoder.fit_transform(df['Outcome'])  # Target variable\n",
        "\n",
        "# Define features (X) and target (y)\n",
        "X = df[['Age', 'Gender', 'Diagnosis', 'Treatment_Type']]  # Features\n",
        "y = df['Outcome']  # Target (Outcome)\n",
        "\n",
        "# Train-test split (80% train, 20% test)\n",
        "X_train, X_test, y_train, y_test = train_test_split(X, y, test_size=0.2, random_state=42)\n",
        "\n",
        "# Initialize Logistic Regression model\n",
        "model = LogisticRegression()\n",
        "\n",
        "# Train the model\n",
        "model.fit(X_train, y_train)\n",
        "\n",
        "# Make predictions on the test set\n",
        "y_pred = model.predict(X_test)\n",
        "\n",
        "# Evaluate the model\n",
        "accuracy = accuracy_score(y_test, y_pred)\n",
        "\n",
        "# Display results\n",
        "print(\"Model Accuracy: {:.2f}%\".format(accuracy * 100))\n",
        "\n",
        "# Display predictions\n",
        "print(\"\\nPredictions on Test Data:\")\n",
        "for i, pred in enumerate(y_pred):\n",
        "    print(f\"Test Sample {i + 1}: Predicted Outcome = {label_encoder.inverse_transform([pred])[0]}\")\n"
      ],
      "metadata": {
        "colab": {
          "base_uri": "https://localhost:8080/"
        },
        "id": "NfJJBzQMJ008",
        "outputId": "3f3152fb-cea9-459b-bc3d-de68841cb99e"
      },
      "execution_count": null,
      "outputs": [
        {
          "output_type": "stream",
          "name": "stdout",
          "text": [
            "Model Accuracy: 0.00%\n",
            "\n",
            "Predictions on Test Data:\n",
            "Test Sample 1: Predicted Outcome = Declined\n",
            "Test Sample 2: Predicted Outcome = Declined\n"
          ]
        }
      ]
    },
    {
      "cell_type": "markdown",
      "source": [
        "Deployment-Building an Interactive App"
      ],
      "metadata": {
        "id": "g5vegJbAJ2gk"
      }
    },
    {
      "cell_type": "code",
      "source": [
        "!pip install gradio"
      ],
      "metadata": {
        "colab": {
          "base_uri": "https://localhost:8080/"
        },
        "id": "OEM9uOLuJ55p",
        "outputId": "17f69874-d513-41b9-dfb9-2a90b350cca1"
      },
      "execution_count": null,
      "outputs": [
        {
          "output_type": "stream",
          "name": "stdout",
          "text": [
            "Collecting gradio\n",
            "  Downloading gradio-5.29.0-py3-none-any.whl.metadata (16 kB)\n",
            "Collecting aiofiles<25.0,>=22.0 (from gradio)\n",
            "  Downloading aiofiles-24.1.0-py3-none-any.whl.metadata (10 kB)\n",
            "Requirement already satisfied: anyio<5.0,>=3.0 in /usr/local/lib/python3.11/dist-packages (from gradio) (4.9.0)\n",
            "Collecting fastapi<1.0,>=0.115.2 (from gradio)\n",
            "  Downloading fastapi-0.115.12-py3-none-any.whl.metadata (27 kB)\n",
            "Collecting ffmpy (from gradio)\n",
            "  Downloading ffmpy-0.5.0-py3-none-any.whl.metadata (3.0 kB)\n",
            "Collecting gradio-client==1.10.0 (from gradio)\n",
            "  Downloading gradio_client-1.10.0-py3-none-any.whl.metadata (7.1 kB)\n",
            "Collecting groovy~=0.1 (from gradio)\n",
            "  Downloading groovy-0.1.2-py3-none-any.whl.metadata (6.1 kB)\n",
            "Requirement already satisfied: httpx>=0.24.1 in /usr/local/lib/python3.11/dist-packages (from gradio) (0.28.1)\n",
            "Requirement already satisfied: huggingface-hub>=0.28.1 in /usr/local/lib/python3.11/dist-packages (from gradio) (0.30.2)\n",
            "Requirement already satisfied: jinja2<4.0 in /usr/local/lib/python3.11/dist-packages (from gradio) (3.1.6)\n",
            "Requirement already satisfied: markupsafe<4.0,>=2.0 in /usr/local/lib/python3.11/dist-packages (from gradio) (3.0.2)\n",
            "Requirement already satisfied: numpy<3.0,>=1.0 in /usr/local/lib/python3.11/dist-packages (from gradio) (2.0.2)\n",
            "Requirement already satisfied: orjson~=3.0 in /usr/local/lib/python3.11/dist-packages (from gradio) (3.10.18)\n",
            "Requirement already satisfied: packaging in /usr/local/lib/python3.11/dist-packages (from gradio) (24.2)\n",
            "Requirement already satisfied: pandas<3.0,>=1.0 in /usr/local/lib/python3.11/dist-packages (from gradio) (2.2.2)\n",
            "Requirement already satisfied: pillow<12.0,>=8.0 in /usr/local/lib/python3.11/dist-packages (from gradio) (11.2.1)\n",
            "Requirement already satisfied: pydantic<2.12,>=2.0 in /usr/local/lib/python3.11/dist-packages (from gradio) (2.11.4)\n",
            "Collecting pydub (from gradio)\n",
            "  Downloading pydub-0.25.1-py2.py3-none-any.whl.metadata (1.4 kB)\n",
            "Collecting python-multipart>=0.0.18 (from gradio)\n",
            "  Downloading python_multipart-0.0.20-py3-none-any.whl.metadata (1.8 kB)\n",
            "Requirement already satisfied: pyyaml<7.0,>=5.0 in /usr/local/lib/python3.11/dist-packages (from gradio) (6.0.2)\n",
            "Collecting ruff>=0.9.3 (from gradio)\n",
            "  Downloading ruff-0.11.8-py3-none-manylinux_2_17_x86_64.manylinux2014_x86_64.whl.metadata (25 kB)\n",
            "Collecting safehttpx<0.2.0,>=0.1.6 (from gradio)\n",
            "  Downloading safehttpx-0.1.6-py3-none-any.whl.metadata (4.2 kB)\n",
            "Collecting semantic-version~=2.0 (from gradio)\n",
            "  Downloading semantic_version-2.10.0-py2.py3-none-any.whl.metadata (9.7 kB)\n",
            "Collecting starlette<1.0,>=0.40.0 (from gradio)\n",
            "  Downloading starlette-0.46.2-py3-none-any.whl.metadata (6.2 kB)\n",
            "Collecting tomlkit<0.14.0,>=0.12.0 (from gradio)\n",
            "  Downloading tomlkit-0.13.2-py3-none-any.whl.metadata (2.7 kB)\n",
            "Requirement already satisfied: typer<1.0,>=0.12 in /usr/local/lib/python3.11/dist-packages (from gradio) (0.15.3)\n",
            "Requirement already satisfied: typing-extensions~=4.0 in /usr/local/lib/python3.11/dist-packages (from gradio) (4.13.2)\n",
            "Collecting uvicorn>=0.14.0 (from gradio)\n",
            "  Downloading uvicorn-0.34.2-py3-none-any.whl.metadata (6.5 kB)\n",
            "Requirement already satisfied: fsspec in /usr/local/lib/python3.11/dist-packages (from gradio-client==1.10.0->gradio) (2025.3.2)\n",
            "Requirement already satisfied: websockets<16.0,>=10.0 in /usr/local/lib/python3.11/dist-packages (from gradio-client==1.10.0->gradio) (15.0.1)\n",
            "Requirement already satisfied: idna>=2.8 in /usr/local/lib/python3.11/dist-packages (from anyio<5.0,>=3.0->gradio) (3.10)\n",
            "Requirement already satisfied: sniffio>=1.1 in /usr/local/lib/python3.11/dist-packages (from anyio<5.0,>=3.0->gradio) (1.3.1)\n",
            "Requirement already satisfied: certifi in /usr/local/lib/python3.11/dist-packages (from httpx>=0.24.1->gradio) (2025.4.26)\n",
            "Requirement already satisfied: httpcore==1.* in /usr/local/lib/python3.11/dist-packages (from httpx>=0.24.1->gradio) (1.0.9)\n",
            "Requirement already satisfied: h11>=0.16 in /usr/local/lib/python3.11/dist-packages (from httpcore==1.*->httpx>=0.24.1->gradio) (0.16.0)\n",
            "Requirement already satisfied: filelock in /usr/local/lib/python3.11/dist-packages (from huggingface-hub>=0.28.1->gradio) (3.18.0)\n",
            "Requirement already satisfied: requests in /usr/local/lib/python3.11/dist-packages (from huggingface-hub>=0.28.1->gradio) (2.32.3)\n",
            "Requirement already satisfied: tqdm>=4.42.1 in /usr/local/lib/python3.11/dist-packages (from huggingface-hub>=0.28.1->gradio) (4.67.1)\n",
            "Requirement already satisfied: python-dateutil>=2.8.2 in /usr/local/lib/python3.11/dist-packages (from pandas<3.0,>=1.0->gradio) (2.9.0.post0)\n",
            "Requirement already satisfied: pytz>=2020.1 in /usr/local/lib/python3.11/dist-packages (from pandas<3.0,>=1.0->gradio) (2025.2)\n",
            "Requirement already satisfied: tzdata>=2022.7 in /usr/local/lib/python3.11/dist-packages (from pandas<3.0,>=1.0->gradio) (2025.2)\n",
            "Requirement already satisfied: annotated-types>=0.6.0 in /usr/local/lib/python3.11/dist-packages (from pydantic<2.12,>=2.0->gradio) (0.7.0)\n",
            "Requirement already satisfied: pydantic-core==2.33.2 in /usr/local/lib/python3.11/dist-packages (from pydantic<2.12,>=2.0->gradio) (2.33.2)\n",
            "Requirement already satisfied: typing-inspection>=0.4.0 in /usr/local/lib/python3.11/dist-packages (from pydantic<2.12,>=2.0->gradio) (0.4.0)\n",
            "Requirement already satisfied: click>=8.0.0 in /usr/local/lib/python3.11/dist-packages (from typer<1.0,>=0.12->gradio) (8.1.8)\n",
            "Requirement already satisfied: shellingham>=1.3.0 in /usr/local/lib/python3.11/dist-packages (from typer<1.0,>=0.12->gradio) (1.5.4)\n",
            "Requirement already satisfied: rich>=10.11.0 in /usr/local/lib/python3.11/dist-packages (from typer<1.0,>=0.12->gradio) (13.9.4)\n",
            "Requirement already satisfied: six>=1.5 in /usr/local/lib/python3.11/dist-packages (from python-dateutil>=2.8.2->pandas<3.0,>=1.0->gradio) (1.17.0)\n",
            "Requirement already satisfied: markdown-it-py>=2.2.0 in /usr/local/lib/python3.11/dist-packages (from rich>=10.11.0->typer<1.0,>=0.12->gradio) (3.0.0)\n",
            "Requirement already satisfied: pygments<3.0.0,>=2.13.0 in /usr/local/lib/python3.11/dist-packages (from rich>=10.11.0->typer<1.0,>=0.12->gradio) (2.19.1)\n",
            "Requirement already satisfied: charset-normalizer<4,>=2 in /usr/local/lib/python3.11/dist-packages (from requests->huggingface-hub>=0.28.1->gradio) (3.4.1)\n",
            "Requirement already satisfied: urllib3<3,>=1.21.1 in /usr/local/lib/python3.11/dist-packages (from requests->huggingface-hub>=0.28.1->gradio) (2.4.0)\n",
            "Requirement already satisfied: mdurl~=0.1 in /usr/local/lib/python3.11/dist-packages (from markdown-it-py>=2.2.0->rich>=10.11.0->typer<1.0,>=0.12->gradio) (0.1.2)\n",
            "Downloading gradio-5.29.0-py3-none-any.whl (54.1 MB)\n",
            "\u001b[2K   \u001b[90m━━━━━━━━━━━━━━━━━━━━━━━━━━━━━━━━━━━━━━━━\u001b[0m \u001b[32m54.1/54.1 MB\u001b[0m \u001b[31m19.9 MB/s\u001b[0m eta \u001b[36m0:00:00\u001b[0m\n",
            "\u001b[?25hDownloading gradio_client-1.10.0-py3-none-any.whl (322 kB)\n",
            "\u001b[2K   \u001b[90m━━━━━━━━━━━━━━━━━━━━━━━━━━━━━━━━━━━━━━━━\u001b[0m \u001b[32m322.9/322.9 kB\u001b[0m \u001b[31m23.1 MB/s\u001b[0m eta \u001b[36m0:00:00\u001b[0m\n",
            "\u001b[?25hDownloading aiofiles-24.1.0-py3-none-any.whl (15 kB)\n",
            "Downloading fastapi-0.115.12-py3-none-any.whl (95 kB)\n",
            "\u001b[2K   \u001b[90m━━━━━━━━━━━━━━━━━━━━━━━━━━━━━━━━━━━━━━━━\u001b[0m \u001b[32m95.2/95.2 kB\u001b[0m \u001b[31m8.1 MB/s\u001b[0m eta \u001b[36m0:00:00\u001b[0m\n",
            "\u001b[?25hDownloading groovy-0.1.2-py3-none-any.whl (14 kB)\n",
            "Downloading python_multipart-0.0.20-py3-none-any.whl (24 kB)\n",
            "Downloading ruff-0.11.8-py3-none-manylinux_2_17_x86_64.manylinux2014_x86_64.whl (11.5 MB)\n",
            "\u001b[2K   \u001b[90m━━━━━━━━━━━━━━━━━━━━━━━━━━━━━━━━━━━━━━━━\u001b[0m \u001b[32m11.5/11.5 MB\u001b[0m \u001b[31m76.0 MB/s\u001b[0m eta \u001b[36m0:00:00\u001b[0m\n",
            "\u001b[?25hDownloading safehttpx-0.1.6-py3-none-any.whl (8.7 kB)\n",
            "Downloading semantic_version-2.10.0-py2.py3-none-any.whl (15 kB)\n",
            "Downloading starlette-0.46.2-py3-none-any.whl (72 kB)\n",
            "\u001b[2K   \u001b[90m━━━━━━━━━━━━━━━━━━━━━━━━━━━━━━━━━━━━━━━━\u001b[0m \u001b[32m72.0/72.0 kB\u001b[0m \u001b[31m6.8 MB/s\u001b[0m eta \u001b[36m0:00:00\u001b[0m\n",
            "\u001b[?25hDownloading tomlkit-0.13.2-py3-none-any.whl (37 kB)\n",
            "Downloading uvicorn-0.34.2-py3-none-any.whl (62 kB)\n",
            "\u001b[2K   \u001b[90m━━━━━━━━━━━━━━━━━━━━━━━━━━━━━━━━━━━━━━━━\u001b[0m \u001b[32m62.5/62.5 kB\u001b[0m \u001b[31m5.9 MB/s\u001b[0m eta \u001b[36m0:00:00\u001b[0m\n",
            "\u001b[?25hDownloading ffmpy-0.5.0-py3-none-any.whl (6.0 kB)\n",
            "Downloading pydub-0.25.1-py2.py3-none-any.whl (32 kB)\n",
            "Installing collected packages: pydub, uvicorn, tomlkit, semantic-version, ruff, python-multipart, groovy, ffmpy, aiofiles, starlette, safehttpx, gradio-client, fastapi, gradio\n",
            "Successfully installed aiofiles-24.1.0 fastapi-0.115.12 ffmpy-0.5.0 gradio-5.29.0 gradio-client-1.10.0 groovy-0.1.2 pydub-0.25.1 python-multipart-0.0.20 ruff-0.11.8 safehttpx-0.1.6 semantic-version-2.10.0 starlette-0.46.2 tomlkit-0.13.2 uvicorn-0.34.2\n"
          ]
        }
      ]
    }
  ]
}